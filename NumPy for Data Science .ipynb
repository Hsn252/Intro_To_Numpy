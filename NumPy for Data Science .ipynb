{
 "cells": [
  {
   "cell_type": "markdown",
   "id": "1b67d87b",
   "metadata": {},
   "source": [
    " #  <span style=\"font-family: 'Verdana '; color: blue  \">  Introduction To Numpy </span> "
   ]
  },
  {
   "cell_type": "code",
   "execution_count": 44,
   "id": "575e5df0",
   "metadata": {},
   "outputs": [],
   "source": [
    "#import numpy package \n",
    "\n",
    "import numpy as np"
   ]
  },
  {
   "cell_type": "code",
   "execution_count": 5,
   "id": "0a47ee55",
   "metadata": {},
   "outputs": [],
   "source": [
    "# 1D array \n",
    "my_arr = [44,43,32,34,54,46,87,89,64,54,23,22,35,12,21,32,45]\n"
   ]
  },
  {
   "cell_type": "markdown",
   "id": "4671041b",
   "metadata": {},
   "source": [
    "**print the array** "
   ]
  },
  {
   "cell_type": "code",
   "execution_count": 7,
   "id": "9961cde3",
   "metadata": {},
   "outputs": [
    {
     "data": {
      "text/plain": [
       "[44, 43, 32, 34, 54, 46, 87, 89, 64, 54, 23, 22, 35, 12, 21, 32, 45]"
      ]
     },
     "execution_count": 7,
     "metadata": {},
     "output_type": "execute_result"
    }
   ],
   "source": [
    "my_arr"
   ]
  },
  {
   "cell_type": "markdown",
   "id": "cc77da13",
   "metadata": {},
   "source": [
    "**Now convert the array to numpy array**"
   ]
  },
  {
   "cell_type": "code",
   "execution_count": 8,
   "id": "41af5dc6",
   "metadata": {},
   "outputs": [
    {
     "data": {
      "text/plain": [
       "array([44, 43, 32, 34, 54, 46, 87, 89, 64, 54, 23, 22, 35, 12, 21, 32, 45])"
      ]
     },
     "execution_count": 8,
     "metadata": {},
     "output_type": "execute_result"
    }
   ],
   "source": [
    "# by simply writing np.array() funcion it converts the simple array to numpy array \n",
    "\n",
    "np.array(my_arr)"
   ]
  },
  {
   "cell_type": "code",
   "execution_count": 14,
   "id": "8717a07e",
   "metadata": {},
   "outputs": [
    {
     "data": {
      "text/plain": [
       "[[23, 43], [55, 54], [43, 22], [56, 67]]"
      ]
     },
     "execution_count": 14,
     "metadata": {},
     "output_type": "execute_result"
    }
   ],
   "source": [
    "# similarlt for 2D array\n",
    "\n",
    "my_2D_arr = [[23,43], [ 55,54] , [ 43,22] ,[ 56,67] ]\n",
    "my_2D_arr"
   ]
  },
  {
   "cell_type": "code",
   "execution_count": 15,
   "id": "7dab410b",
   "metadata": {},
   "outputs": [
    {
     "data": {
      "text/plain": [
       "array([[23, 43],\n",
       "       [55, 54],\n",
       "       [43, 22],\n",
       "       [56, 67]])"
      ]
     },
     "execution_count": 15,
     "metadata": {},
     "output_type": "execute_result"
    }
   ],
   "source": [
    "np.array(my_2D_arr)"
   ]
  },
  {
   "cell_type": "markdown",
   "id": "548391de",
   "metadata": {},
   "source": [
    " ## <span style=\"font-family: 'Verdana '; color: blue  \">  Generate NumPy Arrays using  Built in methods </span>\n"
   ]
  },
  {
   "cell_type": "markdown",
   "id": "0d6704b1",
   "metadata": {},
   "source": [
    "###### Generating numpy array using `arange() ` funcion"
   ]
  },
  {
   "cell_type": "code",
   "execution_count": 18,
   "id": "d3daba7e",
   "metadata": {},
   "outputs": [
    {
     "data": {
      "text/plain": [
       "array([0, 1, 2, 3, 4, 5, 6, 7, 8, 9])"
      ]
     },
     "execution_count": 18,
     "metadata": {},
     "output_type": "execute_result"
    }
   ],
   "source": [
    "# printing values from 0 to n-1 that is 9 \n",
    "\n",
    "np.arange(0,10)"
   ]
  },
  {
   "cell_type": "code",
   "execution_count": 19,
   "id": "0c15dd16",
   "metadata": {},
   "outputs": [
    {
     "data": {
      "text/plain": [
       "array([ 0,  1,  2,  3,  4,  5,  6,  7,  8,  9, 10, 11, 12, 13, 14, 15, 16,\n",
       "       17, 18, 19])"
      ]
     },
     "execution_count": 19,
     "metadata": {},
     "output_type": "execute_result"
    }
   ],
   "source": [
    "np.arange(0,20)"
   ]
  },
  {
   "cell_type": "code",
   "execution_count": 20,
   "id": "9f645ed5",
   "metadata": {},
   "outputs": [
    {
     "data": {
      "text/plain": [
       "array([0, 2, 4, 6, 8])"
      ]
     },
     "execution_count": 20,
     "metadata": {},
     "output_type": "execute_result"
    }
   ],
   "source": [
    "np.arange(0,10,2)\n",
    "# basicaly the three parameters stands for, start, end, step value \n",
    "# so in this example it starts from 0 to 10 and the step value is 2 "
   ]
  },
  {
   "cell_type": "markdown",
   "id": "12643af5",
   "metadata": {},
   "source": [
    " ###### Generating numpy array using `linspace()`funcion.\n",
    " \n",
    "` linspace()` function is a very useful function for generating evenly spaced numbers in NumPy"
   ]
  },
  {
   "cell_type": "code",
   "execution_count": 24,
   "id": "60c57898",
   "metadata": {
    "scrolled": true
   },
   "outputs": [
    {
     "data": {
      "text/plain": [
       "array([ 0.        ,  1.11111111,  2.22222222,  3.33333333,  4.44444444,\n",
       "        5.55555556,  6.66666667,  7.77777778,  8.88888889, 10.        ])"
      ]
     },
     "execution_count": 24,
     "metadata": {},
     "output_type": "execute_result"
    }
   ],
   "source": [
    "np.linspace(0,10,10)"
   ]
  },
  {
   "cell_type": "markdown",
   "id": "7cb67bde",
   "metadata": {},
   "source": [
    "###### Generating numpy arrays using `zeros()` funcion."
   ]
  },
  {
   "cell_type": "code",
   "execution_count": 25,
   "id": "5179e462",
   "metadata": {},
   "outputs": [
    {
     "data": {
      "text/plain": [
       "array([0., 0., 0., 0., 0., 0., 0., 0., 0., 0.])"
      ]
     },
     "execution_count": 25,
     "metadata": {},
     "output_type": "execute_result"
    }
   ],
   "source": [
    "np.zeros(10)"
   ]
  },
  {
   "cell_type": "code",
   "execution_count": 28,
   "id": "db7cfd61",
   "metadata": {},
   "outputs": [
    {
     "data": {
      "text/plain": [
       "array([[0., 0., 0., 0.],\n",
       "       [0., 0., 0., 0.],\n",
       "       [0., 0., 0., 0.]])"
      ]
     },
     "execution_count": 28,
     "metadata": {},
     "output_type": "execute_result"
    }
   ],
   "source": [
    "np.zeros((3,4))\n",
    "\n",
    "# Generats 3,4  2D arrays of zeros"
   ]
  },
  {
   "cell_type": "markdown",
   "id": "4ef39d98",
   "metadata": {},
   "source": [
    "###### Generating numpy arrays using `ones()` function"
   ]
  },
  {
   "cell_type": "code",
   "execution_count": 26,
   "id": "4c83fc28",
   "metadata": {},
   "outputs": [
    {
     "data": {
      "text/plain": [
       "array([1., 1., 1., 1., 1., 1., 1., 1., 1., 1.])"
      ]
     },
     "execution_count": 26,
     "metadata": {},
     "output_type": "execute_result"
    }
   ],
   "source": [
    "np.ones(10)"
   ]
  },
  {
   "cell_type": "code",
   "execution_count": 29,
   "id": "85dd5823",
   "metadata": {
    "scrolled": true
   },
   "outputs": [
    {
     "data": {
      "text/plain": [
       "array([[1., 1., 1., 1., 1.],\n",
       "       [1., 1., 1., 1., 1.],\n",
       "       [1., 1., 1., 1., 1.]])"
      ]
     },
     "execution_count": 29,
     "metadata": {},
     "output_type": "execute_result"
    }
   ],
   "source": [
    "#similarly it applies for the case of np.zeros()\n",
    "np.ones((3,5))"
   ]
  },
  {
   "cell_type": "markdown",
   "id": "aab6df8f",
   "metadata": {},
   "source": [
    "###### Generating random  numpy array numbers using `random.rand()` funcion.\n",
    "\n",
    "The  `np.random.rand()` function is a very useful function for generating random numbers in NumPy.\n",
    "\n",
    "It can be used for a variety of tasks, such as generating data for machine learning, generating test data, and generating random numbers for games"
   ]
  },
  {
   "cell_type": "code",
   "execution_count": 31,
   "id": "967be3d5",
   "metadata": {
    "scrolled": true
   },
   "outputs": [
    {
     "data": {
      "text/plain": [
       "array([[0.04720396, 0.98945477, 0.2414157 , 0.04714368, 0.24627191],\n",
       "       [0.65035133, 0.80198036, 0.90017218, 0.48005046, 0.88213802],\n",
       "       [0.0051294 , 0.87392383, 0.01138353, 0.54723231, 0.05398483],\n",
       "       [0.63585157, 0.85118698, 0.60433857, 0.30035404, 0.278069  ]])"
      ]
     },
     "execution_count": 31,
     "metadata": {},
     "output_type": "execute_result"
    }
   ],
   "source": [
    "np.random.rand(4,5)"
   ]
  },
  {
   "cell_type": "code",
   "execution_count": 32,
   "id": "758e8233",
   "metadata": {},
   "outputs": [
    {
     "data": {
      "text/plain": [
       "array([0.58249421, 0.47681602, 0.1555178 , 0.66810265, 0.12172902])"
      ]
     },
     "execution_count": 32,
     "metadata": {},
     "output_type": "execute_result"
    }
   ],
   "source": [
    "# 1D array of a rondom numbers\n",
    "np.random.rand(5)"
   ]
  },
  {
   "cell_type": "markdown",
   "id": "0960f973",
   "metadata": {},
   "source": [
    "**Generating numpy array using `random.randn()` funcion**."
   ]
  },
  {
   "cell_type": "markdown",
   "id": "d99deec7",
   "metadata": {},
   "source": [
    "`np.random.randn()` is a function in the NumPy library that returns a sample (or samples) from the “standard normal” distribution. \n",
    "\n",
    "A single float randomly sampled from the distribution is returned if no argument is provided1."
   ]
  },
  {
   "cell_type": "code",
   "execution_count": 33,
   "id": "c8bbfbfc",
   "metadata": {},
   "outputs": [
    {
     "data": {
      "text/plain": [
       "array([-1.12562827, -0.13054526, -0.82705779, -1.54230146,  2.73838714])"
      ]
     },
     "execution_count": 33,
     "metadata": {},
     "output_type": "execute_result"
    }
   ],
   "source": [
    "np.random.randn(5)"
   ]
  },
  {
   "cell_type": "markdown",
   "id": "84fb3f30",
   "metadata": {},
   "source": [
    "**`np.random.rand()` vs `np.random.randn()`**     "
   ]
  },
  {
   "cell_type": "markdown",
   "id": "4a2d9ad7",
   "metadata": {},
   "source": [
    "The `np.random.rand()` function generates random numbers that are equally likely to be any value between 0 and 1,\n",
    "\n",
    "while the `np.random.randn()` function generates random numbers that are more likely to be near 0 than they are to be near 1."
   ]
  },
  {
   "cell_type": "markdown",
   "id": "59cacd41",
   "metadata": {},
   "source": [
    "**Generating numpy array using `np.random.randint()` funcion**."
   ]
  },
  {
   "cell_type": "code",
   "execution_count": 41,
   "id": "df6a623b",
   "metadata": {},
   "outputs": [
    {
     "data": {
      "text/plain": [
       "array([ 1, 19, 19, 16, 16,  5,  8,  9,  3, 17])"
      ]
     },
     "execution_count": 41,
     "metadata": {},
     "output_type": "execute_result"
    }
   ],
   "source": [
    "# The np.random.randint(1, 20, 10) function in NumPy generates 10 random integers between 1 and 20, inclusive. \n",
    "# The output is a 1D array of 10 random integers.\n",
    "\n",
    "np.random.randint(1,20,10)"
   ]
  },
  {
   "cell_type": "markdown",
   "id": "ad6c5cc9",
   "metadata": {},
   "source": [
    "#  <span style=\"font-family: 'Arial '; color: Green  \"> Summary of  the Built in methods  </span> \n",
    "\n",
    "The different methods to generate random NumPy arrays are:\n",
    "\n",
    "`arange()` = returns values from the specified range.\n",
    "\n",
    "`linspace()` = returns evenly spaced numbers from the given range.\n",
    "\n",
    "`ones()` = returns an array of ones.\n",
    "\n",
    "`zeroes()` = returns an array of zeroes.\n",
    " \n",
    "`eye()` = returns identity matrix.\n",
    "\n",
    "`random.rand()` = returns an array of random values.\n",
    "\n",
    "`random.randn()` = returns an array of normalized values.\n",
    "\n",
    "`random.randint()` = returns an array of integers from a given range."
   ]
  },
  {
   "cell_type": "markdown",
   "id": "9f591cea",
   "metadata": {},
   "source": [
    "##  <span style=\"font-family: 'Verdana '; color: blue  \"> Mathematic funcions in Numpy arrays </span> "
   ]
  },
  {
   "cell_type": "code",
   "execution_count": 47,
   "id": "076abd86",
   "metadata": {},
   "outputs": [
    {
     "data": {
      "text/plain": [
       "array([97, 90, 32, 44, 29, 80, 17, 14, 84, 28, 59, 85, 45, 21, 66, 24, 89,\n",
       "       78, 28,  0])"
      ]
     },
     "execution_count": 47,
     "metadata": {},
     "output_type": "execute_result"
    }
   ],
   "source": [
    "array_ = np.random.randint(0,100,20)\n",
    "array_\n",
    "# This array generates a 1D array of 20 random integers between 0 and 100, inclusive."
   ]
  },
  {
   "cell_type": "code",
   "execution_count": 48,
   "id": "0d0d9863",
   "metadata": {},
   "outputs": [
    {
     "data": {
      "text/plain": [
       "(20,)"
      ]
     },
     "execution_count": 48,
     "metadata": {},
     "output_type": "execute_result"
    }
   ],
   "source": [
    "array_.shape"
   ]
  },
  {
   "cell_type": "markdown",
   "id": "d5cd8d86",
   "metadata": {},
   "source": [
    "As you can see, the output of `array_.shape` is a tuple of two numbers, where the first number is 20 and the second number is 0. \n",
    "\n",
    "This means that the array has **20 rows** and **0 columns**."
   ]
  },
  {
   "cell_type": "code",
   "execution_count": 55,
   "id": "a2f573d5",
   "metadata": {},
   "outputs": [
    {
     "data": {
      "text/plain": [
       "array([[97, 90, 32, 44],\n",
       "       [29, 80, 17, 14],\n",
       "       [84, 28, 59, 85],\n",
       "       [45, 21, 66, 24],\n",
       "       [89, 78, 28,  0]])"
      ]
     },
     "execution_count": 55,
     "metadata": {},
     "output_type": "execute_result"
    }
   ],
   "source": [
    "array_.reshape(5,4)"
   ]
  },
  {
   "cell_type": "code",
   "execution_count": 57,
   "id": "4592d9a8",
   "metadata": {},
   "outputs": [
    {
     "ename": "ValueError",
     "evalue": "cannot reshape array of size 20 into shape (11,3)",
     "output_type": "error",
     "traceback": [
      "\u001b[1;31m---------------------------------------------------------------------------\u001b[0m",
      "\u001b[1;31mValueError\u001b[0m                                Traceback (most recent call last)",
      "Cell \u001b[1;32mIn[57], line 1\u001b[0m\n\u001b[1;32m----> 1\u001b[0m \u001b[43marray_\u001b[49m\u001b[38;5;241;43m.\u001b[39;49m\u001b[43mreshape\u001b[49m\u001b[43m(\u001b[49m\u001b[38;5;241;43m11\u001b[39;49m\u001b[43m,\u001b[49m\u001b[38;5;241;43m3\u001b[39;49m\u001b[43m)\u001b[49m\n",
      "\u001b[1;31mValueError\u001b[0m: cannot reshape array of size 20 into shape (11,3)"
     ]
    }
   ],
   "source": [
    "array_.reshape(11,3)"
   ]
  },
  {
   "cell_type": "markdown",
   "id": "296c0399",
   "metadata": {},
   "source": [
    " as you can see above you can not reshape array of size 20 int to `shape(11,3)`.\n",
    " \n",
    "The total size of the new array must be the same as the size of the original array. \n",
    "\n",
    "In this case, the size of the new array would be **11*3 = 33**, which is not equal to the size of the original `array (20)`.\n",
    "\n",
    "Here are some possible shapes that you could reshape the array of size 20 into:\n",
    "\n",
    "* (4, 5)\n",
    "* (5, 4)\n",
    "* (2, 10)\n",
    "* (10, 2)"
   ]
  },
  {
   "cell_type": "code",
   "execution_count": 58,
   "id": "2e98ad25",
   "metadata": {},
   "outputs": [
    {
     "data": {
      "text/plain": [
       "array([[97, 90],\n",
       "       [32, 44],\n",
       "       [29, 80],\n",
       "       [17, 14],\n",
       "       [84, 28],\n",
       "       [59, 85],\n",
       "       [45, 21],\n",
       "       [66, 24],\n",
       "       [89, 78],\n",
       "       [28,  0]])"
      ]
     },
     "execution_count": 58,
     "metadata": {},
     "output_type": "execute_result"
    }
   ],
   "source": [
    "array_.reshape(10,2)"
   ]
  },
  {
   "cell_type": "code",
   "execution_count": 65,
   "id": "17abda51",
   "metadata": {},
   "outputs": [
    {
     "data": {
      "text/plain": [
       "array([[97, 32, 29, 17, 84, 59, 45, 66, 89, 28],\n",
       "       [90, 44, 80, 14, 28, 85, 21, 24, 78,  0]])"
      ]
     },
     "execution_count": 65,
     "metadata": {},
     "output_type": "execute_result"
    }
   ],
   "source": [
    "# if you want to transpose the array you simply add .T function  \n",
    "\n",
    "# T stands for transpose of the matrix\n",
    "\n",
    "array_.reshape(10,2).T\n",
    "    "
   ]
  },
  {
   "cell_type": "markdown",
   "id": "74e6176d",
   "metadata": {},
   "source": [
    "#### Multiplication "
   ]
  },
  {
   "cell_type": "code",
   "execution_count": 68,
   "id": "72433a95",
   "metadata": {},
   "outputs": [
    {
     "data": {
      "text/plain": [
       "array([1, 2, 3, 4, 5, 6, 7, 8, 9])"
      ]
     },
     "execution_count": 68,
     "metadata": {},
     "output_type": "execute_result"
    }
   ],
   "source": [
    "array = np.arange(1,10)\n",
    "array"
   ]
  },
  {
   "cell_type": "code",
   "execution_count": 72,
   "id": "b8e0cec6",
   "metadata": {},
   "outputs": [
    {
     "data": {
      "text/plain": [
       "array([ 1,  4,  9, 16, 25, 36, 49, 64, 81])"
      ]
     },
     "execution_count": 72,
     "metadata": {},
     "output_type": "execute_result"
    }
   ],
   "source": [
    "#multiplay\n",
    "array * array"
   ]
  },
  {
   "cell_type": "code",
   "execution_count": 73,
   "id": "22696347",
   "metadata": {},
   "outputs": [
    {
     "data": {
      "text/plain": [
       "array([  1,   8,  27,  64, 125, 216, 343, 512, 729])"
      ]
     },
     "execution_count": 73,
     "metadata": {},
     "output_type": "execute_result"
    }
   ],
   "source": [
    "array * array * array "
   ]
  },
  {
   "cell_type": "markdown",
   "id": "3d1b06c1",
   "metadata": {},
   "source": [
    "#### Division"
   ]
  },
  {
   "cell_type": "code",
   "execution_count": 78,
   "id": "39d06b46",
   "metadata": {},
   "outputs": [
    {
     "data": {
      "text/plain": [
       "array([1., 1., 1., 1., 1., 1., 1., 1., 1.])"
      ]
     },
     "execution_count": 78,
     "metadata": {},
     "output_type": "execute_result"
    }
   ],
   "source": [
    "array / array"
   ]
  },
  {
   "cell_type": "code",
   "execution_count": 79,
   "id": "d4b198bf",
   "metadata": {},
   "outputs": [
    {
     "data": {
      "text/plain": [
       "array([0.5, 1. , 1.5, 2. , 2.5, 3. , 3.5, 4. , 4.5])"
      ]
     },
     "execution_count": 79,
     "metadata": {},
     "output_type": "execute_result"
    }
   ],
   "source": [
    "array / 2"
   ]
  },
  {
   "cell_type": "markdown",
   "id": "911ade36",
   "metadata": {},
   "source": [
    "In Python, the `//` operator performs floor division.\n",
    "\n",
    "This means that the result of the division is rounded down to the nearest integer. \n",
    "\n",
    "For example, `5 // 2` would return **2**, because `5 / 2` is **2.5**, and rounding down to the nearest integer gives us 2."
   ]
  },
  {
   "cell_type": "code",
   "execution_count": 80,
   "id": "3997d7c0",
   "metadata": {},
   "outputs": [
    {
     "data": {
      "text/plain": [
       "array([0, 1, 1, 2, 2, 3, 3, 4, 4], dtype=int32)"
      ]
     },
     "execution_count": 80,
     "metadata": {},
     "output_type": "execute_result"
    }
   ],
   "source": [
    "array // 2"
   ]
  },
  {
   "cell_type": "markdown",
   "id": "36fcc8b1",
   "metadata": {},
   "source": [
    "#### Subtraction"
   ]
  },
  {
   "cell_type": "code",
   "execution_count": 81,
   "id": "7aea8d8a",
   "metadata": {},
   "outputs": [
    {
     "data": {
      "text/plain": [
       "array([-3, -2, -1,  0,  1,  2,  3,  4,  5])"
      ]
     },
     "execution_count": 81,
     "metadata": {},
     "output_type": "execute_result"
    }
   ],
   "source": [
    "array-4"
   ]
  },
  {
   "cell_type": "markdown",
   "id": "965481fe",
   "metadata": {},
   "source": [
    "#### Power of an array in NumPy"
   ]
  },
  {
   "cell_type": "markdown",
   "id": "a7666fc1",
   "metadata": {},
   "source": [
    "\n",
    "The `** ` operator is used to raise an array to a power in NumPy. \n",
    "\n",
    "The syntax for using the `**` operator is as follows:\n",
    "\n",
    "`array ** power`"
   ]
  },
  {
   "cell_type": "code",
   "execution_count": 82,
   "id": "6ec9fc83",
   "metadata": {},
   "outputs": [
    {
     "data": {
      "text/plain": [
       "array([   1,   16,   81,  256,  625, 1296, 2401, 4096, 6561], dtype=int32)"
      ]
     },
     "execution_count": 82,
     "metadata": {},
     "output_type": "execute_result"
    }
   ],
   "source": [
    "array**4"
   ]
  },
  {
   "cell_type": "code",
   "execution_count": 85,
   "id": "f6026451",
   "metadata": {},
   "outputs": [],
   "source": [
    "arr = np.arange(1,10)"
   ]
  },
  {
   "cell_type": "code",
   "execution_count": 87,
   "id": "90ce9d1f",
   "metadata": {},
   "outputs": [
    {
     "data": {
      "text/plain": [
       "array([1, 2, 3, 4, 5, 6, 7, 8, 9])"
      ]
     },
     "execution_count": 87,
     "metadata": {},
     "output_type": "execute_result"
    }
   ],
   "source": [
    "arr"
   ]
  },
  {
   "cell_type": "code",
   "execution_count": 90,
   "id": "d892c6a5",
   "metadata": {},
   "outputs": [
    {
     "data": {
      "text/plain": [
       "array([1.        , 1.41421356, 1.73205081, 2.        , 2.23606798,\n",
       "       2.44948974, 2.64575131, 2.82842712, 3.        ])"
      ]
     },
     "execution_count": 90,
     "metadata": {},
     "output_type": "execute_result"
    }
   ],
   "source": [
    "np.sqrt(arr)"
   ]
  },
  {
   "cell_type": "code",
   "execution_count": 92,
   "id": "df92d947",
   "metadata": {},
   "outputs": [
    {
     "data": {
      "text/plain": [
       "9"
      ]
     },
     "execution_count": 92,
     "metadata": {},
     "output_type": "execute_result"
    }
   ],
   "source": [
    "np.max(arr)"
   ]
  },
  {
   "cell_type": "code",
   "execution_count": 94,
   "id": "e124fdd8",
   "metadata": {},
   "outputs": [
    {
     "data": {
      "text/plain": [
       "1"
      ]
     },
     "execution_count": 94,
     "metadata": {},
     "output_type": "execute_result"
    }
   ],
   "source": [
    "np.min(arr)"
   ]
  },
  {
   "cell_type": "code",
   "execution_count": 102,
   "id": "3555effd",
   "metadata": {},
   "outputs": [
    {
     "data": {
      "text/plain": [
       "array([27, 64, 75, 55, 46, 41, 60, 30, 79, 46, 53, 86, 68, 74, 85, 74, 14,\n",
       "       62, 43, 26, 57, 76, 58, 80, 42, 78, 45, 66,  6, 16])"
      ]
     },
     "execution_count": 102,
     "metadata": {},
     "output_type": "execute_result"
    }
   ],
   "source": [
    "arr_= np.random.randint(1,100,30)\n",
    "arr_"
   ]
  },
  {
   "cell_type": "code",
   "execution_count": 103,
   "id": "37f6046b",
   "metadata": {},
   "outputs": [
    {
     "data": {
      "text/plain": [
       "86"
      ]
     },
     "execution_count": 103,
     "metadata": {},
     "output_type": "execute_result"
    }
   ],
   "source": [
    "np.max(arr_)"
   ]
  },
  {
   "cell_type": "code",
   "execution_count": 104,
   "id": "6520445f",
   "metadata": {},
   "outputs": [
    {
     "data": {
      "text/plain": [
       "6"
      ]
     },
     "execution_count": 104,
     "metadata": {},
     "output_type": "execute_result"
    }
   ],
   "source": [
    "np.min(arr_)"
   ]
  },
  {
   "cell_type": "markdown",
   "id": "415042bd",
   "metadata": {},
   "source": [
    "The `np.argmax(arr_)` and `np.argmin(arr_)` functions in NumPy are used to find the index of the maximum and minimum element in an array, respectively."
   ]
  },
  {
   "cell_type": "code",
   "execution_count": 108,
   "id": "cf60b9c8",
   "metadata": {},
   "outputs": [
    {
     "data": {
      "text/plain": [
       "11"
      ]
     },
     "execution_count": 108,
     "metadata": {},
     "output_type": "execute_result"
    }
   ],
   "source": [
    "np.argmax(arr_)\n",
    "\n",
    "# index of the maximum number \n",
    "# meaning our max num which is 86 in this examples is presented in the index 11 of the array "
   ]
  },
  {
   "cell_type": "code",
   "execution_count": 110,
   "id": "c06aaa0a",
   "metadata": {},
   "outputs": [
    {
     "data": {
      "text/plain": [
       "28"
      ]
     },
     "execution_count": 110,
     "metadata": {},
     "output_type": "execute_result"
    }
   ],
   "source": [
    "np.argmin(arr_)\n",
    "# index of the min num "
   ]
  },
  {
   "cell_type": "markdown",
   "id": "57d789d9",
   "metadata": {},
   "source": [
    "The `np.log(arr_)` function in NumPy takes an array as input and returns a new array with the natural logarithm of each element"
   ]
  },
  {
   "cell_type": "code",
   "execution_count": 113,
   "id": "a53b3046",
   "metadata": {},
   "outputs": [
    {
     "data": {
      "text/plain": [
       "array([3.29583687, 4.15888308, 4.31748811, 4.00733319, 3.8286414 ,\n",
       "       3.71357207, 4.09434456, 3.40119738, 4.36944785, 3.8286414 ,\n",
       "       3.97029191, 4.4543473 , 4.21950771, 4.30406509, 4.44265126,\n",
       "       4.30406509, 2.63905733, 4.12713439, 3.76120012, 3.25809654,\n",
       "       4.04305127, 4.33073334, 4.06044301, 4.38202663, 3.73766962,\n",
       "       4.35670883, 3.80666249, 4.18965474, 1.79175947, 2.77258872])"
      ]
     },
     "execution_count": 113,
     "metadata": {},
     "output_type": "execute_result"
    }
   ],
   "source": [
    "np.log(arr_)"
   ]
  },
  {
   "cell_type": "code",
   "execution_count": 119,
   "id": "d9273015",
   "metadata": {},
   "outputs": [
    {
     "data": {
      "text/plain": [
       "array([ 0.95637593,  0.92002604, -0.38778164, -0.99975517,  0.90178835,\n",
       "       -0.15862267, -0.30481062, -0.98803162, -0.44411267,  0.90178835,\n",
       "        0.39592515, -0.92345845, -0.89792768, -0.98514626, -0.17607562,\n",
       "       -0.98514626,  0.99060736, -0.7391807 , -0.83177474,  0.76255845,\n",
       "        0.43616476,  0.56610764,  0.99287265, -0.99388865, -0.91652155,\n",
       "        0.51397846,  0.85090352, -0.02655115, -0.2794155 , -0.28790332])"
      ]
     },
     "execution_count": 119,
     "metadata": {},
     "output_type": "execute_result"
    }
   ],
   "source": [
    "np.sin(arr_)\n",
    "# sin value of each element in the array "
   ]
  },
  {
   "cell_type": "code",
   "execution_count": 120,
   "id": "166aece4",
   "metadata": {},
   "outputs": [
    {
     "data": {
      "text/plain": [
       "array([-3.27370380e+00,  2.34786031e+00, -4.20700951e-01, -4.51830879e+01,\n",
       "       -2.08661353e+00,  1.60656699e-01,  3.20040389e-01, -6.40533120e+00,\n",
       "        4.95677533e-01, -2.08661353e+00, -4.31158197e-01,  2.40672971e+00,\n",
       "       -2.04008160e+00, -5.73702254e+00,  1.78870172e-01, -5.73702254e+00,\n",
       "        7.24460662e+00, -1.09750978e+00, -1.49838734e+00,  1.17875355e+00,\n",
       "        4.84699227e-01,  6.86747689e-01,  8.33085685e+00,  9.00365495e+00,\n",
       "        2.29138799e+00, -5.99179998e-01,  1.61977519e+00,  2.65605178e-02,\n",
       "       -2.91006191e-01,  3.00632242e-01])"
      ]
     },
     "execution_count": 120,
     "metadata": {},
     "output_type": "execute_result"
    }
   ],
   "source": [
    "np.tan(arr_)\n",
    "# tan value of each element in the array "
   ]
  },
  {
   "cell_type": "markdown",
   "id": "24638bb7",
   "metadata": {},
   "source": [
    "#####  Lets consider 2D array"
   ]
  },
  {
   "cell_type": "code",
   "execution_count": 124,
   "id": "0250858f",
   "metadata": {},
   "outputs": [],
   "source": [
    "matrix = np.random.randn(3,4)"
   ]
  },
  {
   "cell_type": "code",
   "execution_count": 132,
   "id": "d170363f",
   "metadata": {},
   "outputs": [
    {
     "data": {
      "text/plain": [
       "array([[ 1.33637418, -0.08910403, -0.66575793, -1.20948465],\n",
       "       [ 1.5529136 , -0.17373563, -0.59229101, -1.79333288],\n",
       "       [-1.10972018,  0.85608818,  0.08344142,  2.6558091 ]])"
      ]
     },
     "execution_count": 132,
     "metadata": {},
     "output_type": "execute_result"
    }
   ],
   "source": [
    "matrix"
   ]
  },
  {
   "cell_type": "markdown",
   "id": "f6248efe",
   "metadata": {},
   "source": [
    "\n",
    "The `np.round(matrix, decimal)` function in NumPy rounds the elements of an array to a specified number of decimal places. \n",
    "\n",
    "The matrix argument is the array to be rounded, and the decimal argument is the number of decimal places to round to"
   ]
  },
  {
   "cell_type": "code",
   "execution_count": 129,
   "id": "b7a031e8",
   "metadata": {},
   "outputs": [
    {
     "data": {
      "text/plain": [
       "array([[ 1.34, -0.09, -0.67, -1.21],\n",
       "       [ 1.55, -0.17, -0.59, -1.79],\n",
       "       [-1.11,  0.86,  0.08,  2.66]])"
      ]
     },
     "execution_count": 129,
     "metadata": {},
     "output_type": "execute_result"
    }
   ],
   "source": [
    "np.round(matrix,2) "
   ]
  },
  {
   "cell_type": "code",
   "execution_count": 133,
   "id": "cf4c3c84",
   "metadata": {},
   "outputs": [
    {
     "data": {
      "text/plain": [
       "dtype('float64')"
      ]
     },
     "execution_count": 133,
     "metadata": {},
     "output_type": "execute_result"
    }
   ],
   "source": [
    "matrix.dtype\n",
    "# returns the data type of the elements in an array "
   ]
  },
  {
   "cell_type": "markdown",
   "id": "c0e0ea68",
   "metadata": {},
   "source": [
    "##    <span style=\"font-family: 'Verdana '; color: green  \">  Summary of the Mathematical Functions </span>\n",
    "\n",
    "So by now, you must have experimented with different functions taught in the course. Consider an array, then the functions are:\n",
    "\n",
    "\n",
    "`array-10`  = to subtract from elements in the array.\n",
    "``\n",
    "`np.sqrt(array)` = to find the square root of elements in the array.\n",
    "\n",
    "`np.min(array)` = to find the minimum number from the array.\n",
    "\n",
    "`np.argmin(array)` = to find an index of the minimum number from the array.\n",
    "\n",
    "`np.log(array)` = to find log values of elements in the array.\n",
    "\n",
    "`np.sin(array)` = to find sin values of elements in the array.\n",
    "\n",
    "`np.tan(array)` = to find tan values of elements in the array.\n",
    "\n",
    "`np.round(array , decimals = 2)` = to round off elements up to two decimals in the array."
   ]
  },
  {
   "cell_type": "markdown",
   "id": "5df0c506",
   "metadata": {},
   "source": [
    "# <span style=\"font-family: 'Verdana '; color: blue \"> Indexing and Selection in NumPy Arrays </span>"
   ]
  },
  {
   "cell_type": "code",
   "execution_count": 135,
   "id": "7b1dfab9",
   "metadata": {},
   "outputs": [],
   "source": [
    "arr_ = np.arange(1,10)"
   ]
  },
  {
   "cell_type": "code",
   "execution_count": 137,
   "id": "c0c4394c",
   "metadata": {},
   "outputs": [
    {
     "data": {
      "text/plain": [
       "array([1, 2, 3, 4, 5, 6, 7, 8, 9])"
      ]
     },
     "execution_count": 137,
     "metadata": {},
     "output_type": "execute_result"
    }
   ],
   "source": [
    "arr_"
   ]
  },
  {
   "cell_type": "code",
   "execution_count": 139,
   "id": "c31b321c",
   "metadata": {},
   "outputs": [
    {
     "data": {
      "text/plain": [
       "5"
      ]
     },
     "execution_count": 139,
     "metadata": {},
     "output_type": "execute_result"
    }
   ],
   "source": [
    "arr_[4]\n",
    "\n",
    "# shows the element present in the 4th index \n",
    "#  in Python, indices start at 0 "
   ]
  },
  {
   "cell_type": "code",
   "execution_count": 142,
   "id": "7d84ed4e",
   "metadata": {},
   "outputs": [
    {
     "data": {
      "text/plain": [
       "array([1, 6, 7])"
      ]
     },
     "execution_count": 142,
     "metadata": {},
     "output_type": "execute_result"
    }
   ],
   "source": [
    "# access multiple indices in an array\n",
    "\n",
    "arr_[[0,5,6]]"
   ]
  },
  {
   "cell_type": "code",
   "execution_count": 151,
   "id": "9082a45d",
   "metadata": {},
   "outputs": [
    {
     "data": {
      "text/plain": [
       "array([ 1,  2, 12,  4,  5])"
      ]
     },
     "execution_count": 151,
     "metadata": {},
     "output_type": "execute_result"
    }
   ],
   "source": [
    "arr_[0:5]\n",
    "#will return the first 5 elements in the array"
   ]
  },
  {
   "cell_type": "code",
   "execution_count": 146,
   "id": "19e84412",
   "metadata": {},
   "outputs": [
    {
     "data": {
      "text/plain": [
       "9"
      ]
     },
     "execution_count": 146,
     "metadata": {},
     "output_type": "execute_result"
    }
   ],
   "source": [
    "# This is because negative indices in Python start at the end of the array, so -1 refers to the last element.\n",
    "\n",
    "arr_[-1]"
   ]
  },
  {
   "cell_type": "code",
   "execution_count": 148,
   "id": "92ecb5bf",
   "metadata": {},
   "outputs": [],
   "source": [
    "# change the values using indices\n",
    "arr_[2] = 12"
   ]
  },
  {
   "cell_type": "code",
   "execution_count": 150,
   "id": "fb45c6cf",
   "metadata": {},
   "outputs": [
    {
     "data": {
      "text/plain": [
       "array([ 1,  2, 12,  4,  5,  6,  7,  8,  9])"
      ]
     },
     "execution_count": 150,
     "metadata": {},
     "output_type": "execute_result"
    }
   ],
   "source": [
    "arr_\n",
    "# as you can see the value of the 2nd index is changed from 3 to 12 "
   ]
  },
  {
   "cell_type": "code",
   "execution_count": 153,
   "id": "25f3bf70",
   "metadata": {},
   "outputs": [],
   "source": [
    "arr_[4:7]= 25 \n",
    "# replace the elements at indices 4, 5, and 6 in the array arr_ with the value 25.\n",
    "# This is because the colon (:) in Python is used to slice an array, \n",
    "# and the range [4:7] refers to the elements at indices 4, 5, and 6 in the array."
   ]
  },
  {
   "cell_type": "code",
   "execution_count": 154,
   "id": "a08834a1",
   "metadata": {},
   "outputs": [
    {
     "data": {
      "text/plain": [
       "array([ 1,  2, 12,  4, 25, 25, 25,  8,  9])"
      ]
     },
     "execution_count": 154,
     "metadata": {},
     "output_type": "execute_result"
    }
   ],
   "source": [
    "arr_"
   ]
  },
  {
   "cell_type": "markdown",
   "id": "6a97af7b",
   "metadata": {},
   "source": [
    "##### consider 2D array "
   ]
  },
  {
   "cell_type": "code",
   "execution_count": 169,
   "id": "6ad1ff8b",
   "metadata": {},
   "outputs": [
    {
     "data": {
      "text/plain": [
       "array([[ 1,  2,  3,  4,  5],\n",
       "       [ 6,  7,  8,  9, 10],\n",
       "       [11, 12, 13, 14, 15],\n",
       "       [16, 17, 18, 19, 20]])"
      ]
     },
     "execution_count": 169,
     "metadata": {},
     "output_type": "execute_result"
    }
   ],
   "source": [
    "arr_2D = np.arange(1,21).reshape(4,5)\n",
    "arr_2D"
   ]
  },
  {
   "cell_type": "code",
   "execution_count": 171,
   "id": "d70956ef",
   "metadata": {},
   "outputs": [
    {
     "data": {
      "text/plain": [
       "array([[ 3,  5],\n",
       "       [ 8, 10],\n",
       "       [13, 15],\n",
       "       [18, 20]])"
      ]
     },
     "execution_count": 171,
     "metadata": {},
     "output_type": "execute_result"
    }
   ],
   "source": [
    "arr_2D [:,(2,4)]\n",
    "# will return the elements at the second and fourth columns of the array arr_2D. \n",
    "# This is because the colon (:) in Python is used to slice an array, \n",
    "# and the tuple (2,4) refers to the elements at the second and fourth columns of the array."
   ]
  },
  {
   "cell_type": "code",
   "execution_count": 172,
   "id": "36dc3b09",
   "metadata": {},
   "outputs": [
    {
     "data": {
      "text/plain": [
       "array([ 8, 15])"
      ]
     },
     "execution_count": 172,
     "metadata": {},
     "output_type": "execute_result"
    }
   ],
   "source": [
    "arr_2D[(1,2),(2,4)]\n",
    "\n",
    "# will return the elements at the row 1 and column 2 and row 2 and column 4 of the array arr_2D. \n",
    "# This is because the first tuple (1,2) refers to the elements at row 1 and column 2 of the array, \n",
    "# and the second tuple (2,4) refers to the elements at row 2 and column 4 of the array."
   ]
  },
  {
   "cell_type": "markdown",
   "id": "ecc2511a",
   "metadata": {},
   "source": [
    "# <span style=\"font-family: 'Verdana '; color: green  \"> Author: Hasan Ali   </span>"
   ]
  }
 ],
 "metadata": {
  "kernelspec": {
   "display_name": "Python 3 (ipykernel)",
   "language": "python",
   "name": "python3"
  },
  "language_info": {
   "codemirror_mode": {
    "name": "ipython",
    "version": 3
   },
   "file_extension": ".py",
   "mimetype": "text/x-python",
   "name": "python",
   "nbconvert_exporter": "python",
   "pygments_lexer": "ipython3",
   "version": "3.10.9"
  }
 },
 "nbformat": 4,
 "nbformat_minor": 5
}
